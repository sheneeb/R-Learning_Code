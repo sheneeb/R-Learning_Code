{
 "cells": [
  {
   "cell_type": "code",
   "execution_count": 5,
   "metadata": {
    "collapsed": true
   },
   "outputs": [],
   "source": [
    "# Loading ggplot\n",
    "\n",
    "library(ggplot2)"
   ]
  },
  {
   "cell_type": "code",
   "execution_count": 2,
   "metadata": {
    "collapsed": false
   },
   "outputs": [
    {
     "name": "stderr",
     "output_type": "stream",
     "text": [
      "Loading required package: coefplot\n"
     ]
    }
   ],
   "source": [
    "# another way to call Coefplot\n",
    "require(coefplot)"
   ]
  },
  {
   "cell_type": "code",
   "execution_count": 7,
   "metadata": {
    "collapsed": false
   },
   "outputs": [
    {
     "data": {
      "text/html": [
       "<pre class=language-r><code>function (data = NULL, mapping = aes(), ..., environment = parent.frame()) \n",
       "{\n",
       "<span style=white-space:pre-wrap>    UseMethod(\"ggplot\")</span>\n",
       "}</code></pre>"
      ],
      "text/latex": [
       "\\begin{minted}{r}\n",
       "function (data = NULL, mapping = aes(), ..., environment = parent.frame()) \n",
       "\\{\n",
       "    UseMethod(\"ggplot\")\n",
       "\\}\n",
       "\\end{minted}"
      ],
      "text/markdown": [
       "```r\n",
       "function (data = NULL, mapping = aes(), ..., environment = parent.frame()) \n",
       "{\n",
       "    UseMethod(\"ggplot\")\n",
       "}\n",
       "```"
      ],
      "text/plain": [
       "function (data = NULL, mapping = aes(), ..., environment = parent.frame()) \n",
       "{\n",
       "    UseMethod(\"ggplot\")\n",
       "}\n",
       "<environment: namespace:ggplot2>"
      ]
     },
     "metadata": {},
     "output_type": "display_data"
    }
   ],
   "source": [
    "# checking ggplot\n",
    "ggplot"
   ]
  },
  {
   "cell_type": "code",
   "execution_count": 4,
   "metadata": {
    "collapsed": false
   },
   "outputs": [
    {
     "name": "stdout",
     "output_type": "stream",
     "text": [
      "\n",
      "The downloaded binary packages are in\n",
      "\t/var/folders/r5/nysyb8xj193g2hkhcrh3dfq40000gn/T//RtmpjbyEB5/downloaded_packages\n"
     ]
    }
   ],
   "source": [
    "# Installation of packages directly through the Jupyter Notebook\n",
    "install.packages(\"useful\")"
   ]
  },
  {
   "cell_type": "code",
   "execution_count": 8,
   "metadata": {
    "collapsed": false
   },
   "outputs": [
    {
     "name": "stderr",
     "output_type": "stream",
     "text": [
      "Loading required package: useful\n"
     ]
    }
   ],
   "source": [
    "# Loading the R Package Useful\n",
    "require(useful)"
   ]
  },
  {
   "cell_type": "code",
   "execution_count": null,
   "metadata": {
    "collapsed": true
   },
   "outputs": [],
   "source": []
  }
 ],
 "metadata": {
  "anaconda-cloud": {},
  "kernelspec": {
   "display_name": "R",
   "language": "R",
   "name": "ir"
  },
  "language_info": {
   "codemirror_mode": "r",
   "file_extension": ".r",
   "mimetype": "text/x-r-source",
   "name": "R",
   "pygments_lexer": "r",
   "version": "3.3.2"
  }
 },
 "nbformat": 4,
 "nbformat_minor": 1
}
